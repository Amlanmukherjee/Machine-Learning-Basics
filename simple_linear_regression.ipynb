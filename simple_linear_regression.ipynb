{
  "nbformat": 4,
  "nbformat_minor": 0,
  "metadata": {
    "colab": {
      "name": "simple_linear_regression.ipynb",
      "version": "0.3.2",
      "provenance": []
    },
    "kernelspec": {
      "name": "python3",
      "display_name": "Python 3"
    }
  },
  "cells": [
    {
      "cell_type": "code",
      "metadata": {
        "id": "KtiU3AoIZAj4",
        "colab_type": "code",
        "outputId": "8766ccfa-2367-412a-b47e-b2acf74e143e",
        "colab": {
          "base_uri": "https://localhost:8080/",
          "height": 323
        }
      },
      "source": [
        "import matplotlib.pyplot as plt\n",
        "import numpy as np\n",
        "from sklearn import datasets, linear_model\n",
        "from sklearn.metrics import mean_squared_error, r2_score\n",
        "diabetes = datasets.load_diabetes()\n",
        "diabetes_X = diabetes.data[:, np.newaxis, 2]\n",
        "diabetes_X_train = diabetes_X[:-400]\n",
        "diabetes_X_test = diabetes_X[-400:]\n",
        "diabetes_y_train = diabetes.target[:-400]\n",
        "diabetes_y_test = diabetes.target[-400:]\n",
        "regr = linear_model.LinearRegression()\n",
        "regr.fit(diabetes_X_train, diabetes_y_train)\n",
        "diabetes_y_pred = regr.predict(diabetes_X_test)\n",
        "print('Coefficients: \\n', regr.coef_)\n",
        "print(\"Mean squared error: %.6f\"\n",
        "      % mean_squared_error(diabetes_y_test, diabetes_y_pred))\n",
        "print('Variance score: %.6f' % r2_score(diabetes_y_test, diabetes_y_pred))\n",
        "plt.scatter(diabetes_X_test, diabetes_y_test,  color='black')\n",
        "plt.plot(diabetes_X_test, diabetes_y_pred, color='red', linewidth=3)\n",
        "\n",
        "plt.xticks(())\n",
        "plt.yticks(())\n",
        "\n",
        "plt.show()\n"
      ],
      "execution_count": 0,
      "outputs": [
        {
          "output_type": "stream",
          "text": [
            "Coefficients: \n",
            " [887.13612938]\n",
            "Mean squared error: 3916.895155\n",
            "Variance score: 0.343001\n"
          ],
          "name": "stdout"
        },
        {
          "output_type": "display_data",
          "data": {
            "image/png": "[encoded data removed]",
            "text/plain": [
              "<Figure size 432x288 with 1 Axes>"
            ]
          },
          "metadata": {
            "tags": []
          }
        }
      ]
    }
  ]
}